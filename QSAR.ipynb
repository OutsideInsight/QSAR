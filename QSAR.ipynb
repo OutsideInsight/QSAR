{
 "cells": [
  {
   "cell_type": "markdown",
   "id": "5edc5c82-01fe-4555-b913-77b01afa5aab",
   "metadata": {},
   "source": [
    "# Quantitative Structure-Activity Relationship (QSAR) Demonstration"
   ]
  },
  {
   "cell_type": "markdown",
   "id": "ce0ea5e4-429a-42e5-877c-338ee482802e",
   "metadata": {},
   "source": [
    "## Part 1: Molecular Fingerprinting"
   ]
  },
  {
   "cell_type": "code",
   "execution_count": null,
   "id": "42559bf7-5f5d-4f13-9f83-1fee6359f076",
   "metadata": {},
   "outputs": [],
   "source": [
    "!pip install rdkit"
   ]
  },
  {
   "cell_type": "markdown",
   "id": "1d96bcde-211b-4c39-9295-0c0af1de7ebe",
   "metadata": {},
   "source": [
    "## Part 2: Data Processing"
   ]
  },
  {
   "cell_type": "code",
   "execution_count": null,
   "id": "0bc21a52-2184-49b0-9f87-22c033b8ccca",
   "metadata": {},
   "outputs": [],
   "source": [
    "!pip install pandas"
   ]
  },
  {
   "cell_type": "markdown",
   "id": "d283f71a-3b39-446e-9756-2407a2e750d5",
   "metadata": {},
   "source": [
    "## Part3: Creating the Model"
   ]
  },
  {
   "cell_type": "code",
   "execution_count": null,
   "id": "33040bc0-e44f-4a3a-9036-399233c04678",
   "metadata": {},
   "outputs": [],
   "source": [
    "!pip install scikit-learn"
   ]
  }
 ],
 "metadata": {
  "kernelspec": {
   "display_name": "Python 3 (ipykernel)",
   "language": "python",
   "name": "python3"
  },
  "language_info": {
   "codemirror_mode": {
    "name": "ipython",
    "version": 3
   },
   "file_extension": ".py",
   "mimetype": "text/x-python",
   "name": "python",
   "nbconvert_exporter": "python",
   "pygments_lexer": "ipython3",
   "version": "3.12.3"
  }
 },
 "nbformat": 4,
 "nbformat_minor": 5
}
